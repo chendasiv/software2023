{
  "nbformat": 4,
  "nbformat_minor": 0,
  "metadata": {
    "colab": {
      "provenance": []
    },
    "kernelspec": {
      "name": "python3",
      "display_name": "Python 3"
    },
    "language_info": {
      "name": "python"
    },
    "accelerator": "GPU",
    "gpuClass": "standard"
  },
  "cells": [
    {
      "cell_type": "code",
      "execution_count": 1,
      "metadata": {
        "colab": {
          "base_uri": "https://localhost:8080/"
        },
        "id": "le-12q0R65sX",
        "outputId": "ad573719-9bff-4c69-fc8a-fb97afa2eb77"
      },
      "outputs": [
        {
          "output_type": "stream",
          "name": "stdout",
          "text": [
            "Looking in indexes: https://pypi.org/simple, https://us-python.pkg.dev/colab-wheels/public/simple/\n",
            "Requirement already satisfied: opencv-python in /usr/local/lib/python3.8/dist-packages (4.6.0.66)\n",
            "Requirement already satisfied: numpy>=1.14.5 in /usr/local/lib/python3.8/dist-packages (from opencv-python) (1.21.6)\n",
            "Looking in indexes: https://pypi.org/simple, https://us-python.pkg.dev/colab-wheels/public/simple/\n",
            "Requirement already satisfied: matplotlib in /usr/local/lib/python3.8/dist-packages (3.2.2)\n",
            "Requirement already satisfied: kiwisolver>=1.0.1 in /usr/local/lib/python3.8/dist-packages (from matplotlib) (1.4.4)\n",
            "Requirement already satisfied: pyparsing!=2.0.4,!=2.1.2,!=2.1.6,>=2.0.1 in /usr/local/lib/python3.8/dist-packages (from matplotlib) (3.0.9)\n",
            "Requirement already satisfied: cycler>=0.10 in /usr/local/lib/python3.8/dist-packages (from matplotlib) (0.11.0)\n",
            "Requirement already satisfied: python-dateutil>=2.1 in /usr/local/lib/python3.8/dist-packages (from matplotlib) (2.8.2)\n",
            "Requirement already satisfied: numpy>=1.11 in /usr/local/lib/python3.8/dist-packages (from matplotlib) (1.21.6)\n",
            "Requirement already satisfied: six>=1.5 in /usr/local/lib/python3.8/dist-packages (from python-dateutil>=2.1->matplotlib) (1.15.0)\n",
            "Looking in indexes: https://pypi.org/simple, https://us-python.pkg.dev/colab-wheels/public/simple/\n",
            "Collecting face_recognition\n",
            "  Downloading face_recognition-1.3.0-py2.py3-none-any.whl (15 kB)\n",
            "Requirement already satisfied: Pillow in /usr/local/lib/python3.8/dist-packages (from face_recognition) (7.1.2)\n",
            "Collecting face-recognition-models>=0.3.0\n",
            "  Downloading face_recognition_models-0.3.0.tar.gz (100.1 MB)\n",
            "\u001b[2K     \u001b[90m━━━━━━━━━━━━━━━━━━━━━━━━━━━━━━━━━━━━━━\u001b[0m \u001b[32m100.1/100.1 MB\u001b[0m \u001b[31m10.5 MB/s\u001b[0m eta \u001b[36m0:00:00\u001b[0m\n",
            "\u001b[?25h  Preparing metadata (setup.py) ... \u001b[?25l\u001b[?25hdone\n",
            "Requirement already satisfied: numpy in /usr/local/lib/python3.8/dist-packages (from face_recognition) (1.21.6)\n",
            "Requirement already satisfied: Click>=6.0 in /usr/local/lib/python3.8/dist-packages (from face_recognition) (7.1.2)\n",
            "Requirement already satisfied: dlib>=19.7 in /usr/local/lib/python3.8/dist-packages (from face_recognition) (19.24.0)\n",
            "Building wheels for collected packages: face-recognition-models\n",
            "  Building wheel for face-recognition-models (setup.py) ... \u001b[?25l\u001b[?25hdone\n",
            "  Created wheel for face-recognition-models: filename=face_recognition_models-0.3.0-py2.py3-none-any.whl size=100566185 sha256=47a42c75c9954738325a771cc6b07982593894c02db6aa1bccf4aa68527b571f\n",
            "  Stored in directory: /root/.cache/pip/wheels/b4/4b/8f/751e99d45f089bdf366a7d3e5066db3c2b84a62e4377f534d7\n",
            "Successfully built face-recognition-models\n",
            "Installing collected packages: face-recognition-models, face_recognition\n",
            "Successfully installed face-recognition-models-0.3.0 face_recognition-1.3.0\n"
          ]
        }
      ],
      "source": [
        "!pip install opencv-python\n",
        "!pip install matplotlib\n",
        "!pip install face_recognition"
      ]
    },
    {
      "cell_type": "code",
      "source": [
        "!git clone https://github.com/chendasiv/software2023.git"
      ],
      "metadata": {
        "id": "CCs2RSf5tX3q",
        "outputId": "4d9e5d29-2104-41e1-e164-7f94b6f94a69",
        "colab": {
          "base_uri": "https://localhost:8080/"
        }
      },
      "execution_count": 2,
      "outputs": [
        {
          "output_type": "stream",
          "name": "stdout",
          "text": [
            "Cloning into 'software2023'...\n",
            "remote: Enumerating objects: 63, done.\u001b[K\n",
            "remote: Counting objects: 100% (63/63), done.\u001b[K\n",
            "remote: Compressing objects: 100% (63/63), done.\u001b[K\n",
            "remote: Total 63 (delta 22), reused 0 (delta 0), pack-reused 0\u001b[K\n",
            "Unpacking objects: 100% (63/63), 3.32 MiB | 13.09 MiB/s, done.\n"
          ]
        }
      ]
    },
    {
      "cell_type": "markdown",
      "source": [
        "-------------------最初にここまで実行-------------------"
      ],
      "metadata": {
        "id": "oKC2lNEHSFtW"
      }
    },
    {
      "cell_type": "markdown",
      "source": [
        "_dicに人名の画像ファイル、_imgに判定したい画像ファイルをアップロードしてください"
      ],
      "metadata": {
        "id": "iO1kppfdSQGW"
      }
    },
    {
      "cell_type": "markdown",
      "source": [
        "ファイルの追加、削除はいつでも行えます"
      ],
      "metadata": {
        "id": "RuG_kw2vSmn3"
      }
    },
    {
      "cell_type": "markdown",
      "source": [
        "ファイルのアップロードが終了したら次のセルを実行してください"
      ],
      "metadata": {
        "id": "it3TLwpnSobZ"
      }
    },
    {
      "cell_type": "code",
      "source": [
        "# face.py\n",
        "import face_recognition\n",
        "import numpy as np\n",
        "from PIL import Image, ImageDraw\n",
        "\n",
        "import glob\n",
        "import os\n",
        "\n",
        "dic_dir = 'software2023/_dic/'\n",
        "unk_dir = 'software2023/_img/'\n",
        "\n",
        "def face_func(dic_dir, unk_dir):\n",
        "    #print('Start')\n",
        "    #print(dic_dir)\n",
        "    #print(unk_dir)\n",
        "    dic = sorted(glob.glob(dic_dir + '/*.jpg'))\n",
        "    unk = sorted(glob.glob(unk_dir + '/*.jpg')) #unknown\n",
        "    known_face_encodings = []\n",
        "    known_face_names = []\n",
        "\n",
        "    for img in dic:\n",
        "        #print('Loop1')\n",
        "        name = os.path.splitext(os.path.basename(img))[0]\n",
        "        people_image = face_recognition.load_image_file(img)\n",
        "        if len(face_recognition.face_encodings(people_image)) != 0:\n",
        "          print('len(face_recognition.face_encodings(people_image))')\n",
        "          people_encoding = face_recognition.face_encodings(people_image)[0]\n",
        "\n",
        "          known_face_encodings.append(people_encoding)\n",
        "          known_face_names.append(name)\n",
        "\n",
        "        else :\n",
        "          #print('Error')\n",
        "          print(img + ':Error')\n",
        "\n",
        "    for img in unk:\n",
        "        #print('Loop2')\n",
        "        print(img)\n",
        "        unknown_image = face_recognition.load_image_file(img)\n",
        "\n",
        "        face_locations = face_recognition.face_locations(unknown_image)\n",
        "        face_encodings = face_recognition.face_encodings(unknown_image, face_locations)\n",
        "\n",
        "        pil_image = Image.fromarray(unknown_image)\n",
        "\n",
        "        draw = ImageDraw.Draw(pil_image)\n",
        "\n",
        "        for (top, right, bottom, left), face_encoding in zip(face_locations, face_encodings):\n",
        "            #print('Loop3')\n",
        "            matches = face_recognition.compare_faces(known_face_encodings, face_encoding)\n",
        "            name = \"Unknown\"\n",
        "\n",
        "            face_distances = face_recognition.face_distance(known_face_encodings, face_encoding)\n",
        "            best_match_index = np.argmin(face_distances)\n",
        "            if matches[best_match_index]:\n",
        "                print('matches[best_match_index]')\n",
        "                name = known_face_names[best_match_index]\n",
        "\n",
        "            print(name)\n",
        "\n",
        "            pil_image.show()\n",
        "\n",
        "face_func(dic_dir, unk_dir)"
      ],
      "metadata": {
        "id": "-KdjIUNy9vSw",
        "colab": {
          "base_uri": "https://localhost:8080/"
        },
        "outputId": "279b0b63-25e3-4377-9dba-1bc44c9fb3a3"
      },
      "execution_count": 4,
      "outputs": [
        {
          "output_type": "stream",
          "name": "stdout",
          "text": [
            "software2023/_dic/Cat_train.jpg:Error\n",
            "len(face_recognition.face_encodings(people_image))\n",
            "len(face_recognition.face_encodings(people_image))\n",
            "len(face_recognition.face_encodings(people_image))\n",
            "len(face_recognition.face_encodings(people_image))\n",
            "len(face_recognition.face_encodings(people_image))\n",
            "software2023/_img/kinemaPAR515782357_TP_V4.jpg\n",
            "matches[best_match_index]\n",
            "ookawa221061296_TP_V4\n",
            "software2023/_img/kinemaPAR515962358_TP_V4.jpg\n",
            "matches[best_match_index]\n",
            "ookawa221061296_TP_V4\n",
            "software2023/_img/kinemaPAR516022359_TP_V4.jpg\n",
            "matches[best_match_index]\n",
            "ookawa221061296_TP_V4\n",
            "software2023/_img/kuchikomi747_TP_V4.jpg\n",
            "matches[best_match_index]\n",
            "ookawa221061296_TP_V4\n",
            "software2023/_img/ookawa221061296_TP_V4.jpg\n",
            "matches[best_match_index]\n",
            "ookawa221061296_TP_V4\n",
            "software2023/_img/ookawapaui0154008_TP_V4.jpg\n",
            "Unknown\n",
            "software2023/_img/ookawapaui0156009_TP_V4.jpg\n",
            "matches[best_match_index]\n",
            "ookawa221061296_TP_V4\n",
            "software2023/_img/ookawapaui0420063_TP_V4.jpg\n",
            "matches[best_match_index]\n",
            "ookawa221061296_TP_V4\n",
            "software2023/_img/remoteworks458A3475_TP_V4.jpg\n",
            "software2023/_img/unknown_image.jpg\n",
            "matches[best_match_index]\n",
            "eito\n",
            "software2023/_img/unknown_image3.jpg\n",
            "matches[best_match_index]\n",
            "takahiro\n"
          ]
        }
      ]
    }
  ]
}